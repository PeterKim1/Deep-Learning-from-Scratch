{
  "nbformat": 4,
  "nbformat_minor": 0,
  "metadata": {
    "colab": {
      "name": "DLFS_5_5.ipynb",
      "provenance": [],
      "collapsed_sections": []
    },
    "kernelspec": {
      "name": "python3",
      "display_name": "Python 3"
    }
  },
  "cells": [
    {
      "cell_type": "markdown",
      "metadata": {
        "id": "MkzIm1hOj3ep"
      },
      "source": [
        "# 5.5 활성화 함수 계층 구현하기\r\n",
        "## 5.5.1 ReLu 계층(p. 166)"
      ]
    },
    {
      "cell_type": "code",
      "metadata": {
        "id": "eCsAGQ7lhALM"
      },
      "source": [
        "class Relu:\r\n",
        "    def __init__(self):\r\n",
        "        self.mask = None\r\n",
        "\r\n",
        "    def forward(self, x):\r\n",
        "        self.mask = (x <= 0) # x <= 0인 구간들을 잡아내기\r\n",
        "        out = x.copy()\r\n",
        "        out[self.mask] = 0 # x <= 0인 구간을 0으로 만들기\r\n",
        "        return out\r\n",
        "\r\n",
        "    def backward(self, dout):\r\n",
        "        dout[self.mask] = 0\r\n",
        "        dx = dout\r\n",
        "\r\n",
        "        return dx"
      ],
      "execution_count": null,
      "outputs": []
    },
    {
      "cell_type": "code",
      "metadata": {
        "colab": {
          "base_uri": "https://localhost:8080/"
        },
        "id": "Ivin4Zz0kfP4",
        "outputId": "892311f7-fd14-4882-d333-fe79fcd6eb85"
      },
      "source": [
        "import numpy as np\r\n",
        "x = np.array([[1.0, -0.5], [-2.0, 3.0]])\r\n",
        "print(x)\r\n",
        "\r\n",
        "mask = (x <= 0)\r\n",
        "print(mask)"
      ],
      "execution_count": null,
      "outputs": [
        {
          "output_type": "stream",
          "text": [
            "[[ 1.  -0.5]\n",
            " [-2.   3. ]]\n",
            "[[False  True]\n",
            " [ True False]]\n"
          ],
          "name": "stdout"
        }
      ]
    },
    {
      "cell_type": "markdown",
      "metadata": {
        "id": "Z5_lEPQKlH5x"
      },
      "source": [
        "## 5.5.2 Sigmoid 계층(p. 167)"
      ]
    },
    {
      "cell_type": "code",
      "metadata": {
        "id": "tvasP5GblHZU"
      },
      "source": [
        "class Sigmoid:\r\n",
        "    def __init__(self):\r\n",
        "        self.out = None\r\n",
        "    def forward(self, x):\r\n",
        "        out = 1 / (1 + np.exp(-x))\r\n",
        "        self.out = out\r\n",
        "\r\n",
        "        return out\r\n",
        "    def backward(self, dout):\r\n",
        "        dx = dout * self.out * (1 - self.out)\r\n",
        "\r\n",
        "        return dx"
      ],
      "execution_count": null,
      "outputs": []
    },
    {
      "cell_type": "code",
      "metadata": {
        "id": "O_F-goA5oWIm"
      },
      "source": [
        ""
      ],
      "execution_count": null,
      "outputs": []
    }
  ]
}