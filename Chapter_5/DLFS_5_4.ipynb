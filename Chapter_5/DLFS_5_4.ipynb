{
  "nbformat": 4,
  "nbformat_minor": 0,
  "metadata": {
    "colab": {
      "name": "DLFS_5_4.ipynb",
      "provenance": [],
      "collapsed_sections": []
    },
    "kernelspec": {
      "name": "python3",
      "display_name": "Python 3"
    }
  },
  "cells": [
    {
      "cell_type": "markdown",
      "metadata": {
        "id": "f1VYsVKAUI6G"
      },
      "source": [
        "# 5.4 단순한 계층 구현하기\r\n",
        "## 5.4.1 곱셈 계층(p.160)"
      ]
    },
    {
      "cell_type": "code",
      "metadata": {
        "id": "ec6gJUjGUDpA"
      },
      "source": [
        "class MulLayer:\r\n",
        "    def __init__(self):\r\n",
        "        # self.x, self.y 초기화\r\n",
        "        self.x = None\r\n",
        "        self.y = None\r\n",
        "\r\n",
        "    def forward(self, x, y):\r\n",
        "        self.x = x\r\n",
        "        self.y = y\r\n",
        "        out = x * y\r\n",
        "        return out\r\n",
        "\r\n",
        "    def backward(self, dout):\r\n",
        "        dx = dout * self.y\r\n",
        "        dy = dout * self.x\r\n",
        "        return dx, dy"
      ],
      "execution_count": null,
      "outputs": []
    },
    {
      "cell_type": "code",
      "metadata": {
        "colab": {
          "base_uri": "https://localhost:8080/"
        },
        "id": "r-XPJAx8Vw20",
        "outputId": "c4334c17-4a53-4488-8302-38fffa2b537a"
      },
      "source": [
        "# 사과 쇼핑 구현하기 => 책 내용 안보고 직접 구현, 변수명이 다를 수 있음.\r\n",
        "\r\n",
        "apple = 100\r\n",
        "apple_num = 2\r\n",
        "tax = 1.1\r\n",
        "\r\n",
        "# layer 선언\r\n",
        "mul_layer_1 = MulLayer()\r\n",
        "mul_layer_2 = MulLayer()\r\n",
        "\r\n",
        "\r\n",
        "apple_mul_num = mul_layer_1.forward(apple, apple_num) # x = apple, y = apple_num\r\n",
        "final_value = mul_layer_2.forward(apple_mul_num, tax) # x = apple_mul_num , y = tax\r\n",
        "\r\n",
        "print(\"사과 값 x 사과의 개수: \", apple_mul_num) # 200\r\n",
        "print(\"사과 값 x 사과의 개수 x 소비세: \", final_value) # 220\r\n",
        "\r\n",
        "dout = 1\r\n",
        "deri_apple_mul, deri_tax = mul_layer_2.backward(dout) # return dx, dy \r\n",
        "deri_apple, deri_apple_num = mul_layer_1.backward(deri_apple_mul) # return dx, dy\r\n",
        "\r\n",
        "print(\"final value를 사과 값 x 사과의 개수로 미분한 값: \", deri_apple_mul) # 1.1\r\n",
        "print(\"final value를 소비세로 미분한 값: \", deri_tax) # 200\r\n",
        "print(\"final value를 사과 값으로 미분한 값: \", deri_apple) # 2.2\r\n",
        "print(\"final value를 사과의 개수로 미분한 값: \", deri_apple_num) # 110\r\n"
      ],
      "execution_count": null,
      "outputs": [
        {
          "output_type": "stream",
          "text": [
            "사과 값 x 사과의 개수:  200\n",
            "사과 값 x 사과의 개수 x 소비세:  220.00000000000003\n",
            "final value를 사과 값 x 사과의 개수로 미분한 값:  1.1\n",
            "final value를 소비세로 미분한 값:  200\n",
            "final value를 사과 값으로 미분한 값:  2.2\n",
            "final value를 사과의 개수로 미분한 값:  110.00000000000001\n"
          ],
          "name": "stdout"
        }
      ]
    },
    {
      "cell_type": "markdown",
      "metadata": {
        "id": "qiAI9WzJb1xd"
      },
      "source": [
        "## 5.4.2 덧셈 계층(p. 163)"
      ]
    },
    {
      "cell_type": "code",
      "metadata": {
        "id": "ecqBcgl1W-jc"
      },
      "source": [
        "class AddLayer:\r\n",
        "    def __init__(self):\r\n",
        "        pass\r\n",
        "    def forward(self, x, y):\r\n",
        "        out = x + y\r\n",
        "        return out\r\n",
        "    def backward(self, dout):\r\n",
        "        dx = dout * 1\r\n",
        "        dy = dout * 1\r\n",
        "        return dx, dy"
      ],
      "execution_count": null,
      "outputs": []
    },
    {
      "cell_type": "code",
      "metadata": {
        "colab": {
          "base_uri": "https://localhost:8080/"
        },
        "id": "xC-JELiPcCXb",
        "outputId": "a5b44193-5e41-45dc-d3f3-68ee06b9ca0a"
      },
      "source": [
        "# 사과 2개 귤 3개 문제 구현 => 안 보고 짠거라서 변수명이 다름\r\n",
        "\r\n",
        "apple = 100\r\n",
        "apple_num = 2\r\n",
        "orange = 150\r\n",
        "orange_num = 3\r\n",
        "tax = 1.1\r\n",
        "\r\n",
        "# Layer define\r\n",
        "mul_layer_1 = MulLayer()\r\n",
        "mul_layer_2 = MulLayer()\r\n",
        "mul_layer_3 = MulLayer()\r\n",
        "add_layer = AddLayer()\r\n",
        "\r\n",
        "# forward propagation(순전파)\r\n",
        "apple_mul = mul_layer_1.forward(apple, apple_num)\r\n",
        "orange_mul = mul_layer_2.forward(orange, orange_num)\r\n",
        "fruit_all = add_layer.forward(apple_mul, orange_mul)\r\n",
        "final_value = mul_layer_3.forward(fruit_all, tax)\r\n",
        "\r\n",
        "print(\"사과 x 사과 개수: \", apple_mul)\r\n",
        "print(\"오렌지 x 오렌지 개수: \", orange_mul)\r\n",
        "print(\"사과 + 오렌지 : \", fruit_all)\r\n",
        "print(\"최종 값: \", final_value)\r\n",
        "\r\n",
        "# Backward propagation(역전파)\r\n",
        "deri_final = 1\r\n",
        "deri_fruit_all, deri_tax = mul_layer_3.backward(deri_final)\r\n",
        "deri_apple_sum, deri_orange_sum = add_layer.backward(deri_fruit_all)\r\n",
        "deri_apple, deri_apple_num = mul_layer_1.backward(deri_apple_sum)\r\n",
        "deri_orange, deri_orange_num = mul_layer_2.backward(deri_orange_sum)\r\n",
        "\r\n",
        "print(\"dfinal / d사과 :\", deri_apple)\r\n",
        "print(\"dfinal / d사과개수: \", deri_apple_num)\r\n",
        "print(\"dfinal / d오렌지: \", deri_orange)\r\n",
        "print(\"dfinal / d오렌지개수: \", deri_orange_num)\r\n",
        "print(\"dfinal / d사과x사과개수: \", deri_apple_sum)\r\n",
        "print(\"dfinal / d오렌지x오렌지개수: \", deri_orange_sum)\r\n",
        "print(\"dfinal / d소비세 : \", deri_tax)\r\n",
        "print(\"dfinal / d과일합: \", deri_fruit_all)\r\n"
      ],
      "execution_count": null,
      "outputs": [
        {
          "output_type": "stream",
          "text": [
            "사과 x 사과 개수:  200\n",
            "오렌지 x 오렌지 개수:  450\n",
            "사과 + 오렌지 :  650\n",
            "최종 값:  715.0000000000001\n",
            "dfinal / d사과 : 2.2\n",
            "dfinal / d사과개수:  110.00000000000001\n",
            "dfinal / d오렌지:  3.3000000000000003\n",
            "dfinal / d오렌지개수:  165.0\n",
            "dfinal / d사과x사과개수:  1.1\n",
            "dfinal / d오렌지x오렌지개수:  1.1\n",
            "dfinal / d소비세 :  650\n",
            "dfinal / d과일합:  1.1\n"
          ],
          "name": "stdout"
        }
      ]
    }
  ]
}