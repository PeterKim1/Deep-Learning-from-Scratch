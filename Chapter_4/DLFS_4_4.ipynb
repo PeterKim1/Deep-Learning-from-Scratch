{
  "nbformat": 4,
  "nbformat_minor": 0,
  "metadata": {
    "colab": {
      "name": "DLFS_4_4.ipynb",
      "provenance": [],
      "collapsed_sections": []
    },
    "kernelspec": {
      "name": "python3",
      "display_name": "Python 3"
    }
  },
  "cells": [
    {
      "cell_type": "markdown",
      "metadata": {
        "id": "ZSbhd2I9fTk6"
      },
      "source": [
        "# 4.4 기울기(p. 127)"
      ]
    },
    {
      "cell_type": "code",
      "metadata": {
        "id": "9HEq4rayfs-Q"
      },
      "source": [
        "import numpy as np"
      ],
      "execution_count": null,
      "outputs": []
    },
    {
      "cell_type": "code",
      "metadata": {
        "id": "6qzreJ05fo_I"
      },
      "source": [
        "# f(x_0, x_1) = x_0^2 + x_1^2\r\n",
        "\r\n",
        "def function_2(x):\r\n",
        "    return x[0]**2 + x[1]**2"
      ],
      "execution_count": null,
      "outputs": []
    },
    {
      "cell_type": "code",
      "metadata": {
        "id": "OY-VKuejfGiA"
      },
      "source": [
        "# 기울기 구하기\r\n",
        "# 함수 f와 값 x를 받음.\r\n",
        "def numerical_gradient(f, x):\r\n",
        "    h = 1e-4\r\n",
        "    grad = np.zeros_like(x) # x와 모양이 같은 0으로 된 배열을 생성\r\n",
        "\r\n",
        "    for idx in range(x.size):\r\n",
        "        tmp_val = x[idx]\r\n",
        "\r\n",
        "        # f(x+h) 계산\r\n",
        "        x[idx] = tmp_val + h\r\n",
        "        fxh1 = f(x)\r\n",
        "\r\n",
        "        # f(x-h) 계산\r\n",
        "        x[idx] = tmp_val - h\r\n",
        "        fxh2 = f(x)\r\n",
        "\r\n",
        "        grad[idx] = (fxh1 - fxh2) / (2*h)\r\n",
        "        x[idx] = tmp_val # 값 원상복구\r\n",
        "    \r\n",
        "    return grad"
      ],
      "execution_count": null,
      "outputs": []
    },
    {
      "cell_type": "code",
      "metadata": {
        "colab": {
          "base_uri": "https://localhost:8080/"
        },
        "id": "r_8YcLnjfeSp",
        "outputId": "5259a9f5-40f1-4285-99b5-c169be7c772c"
      },
      "source": [
        "numerical_gradient(function_2, np.array([3.0, 4.0]))"
      ],
      "execution_count": null,
      "outputs": [
        {
          "output_type": "execute_result",
          "data": {
            "text/plain": [
              "array([6., 0.])"
            ]
          },
          "metadata": {
            "tags": []
          },
          "execution_count": 6
        }
      ]
    },
    {
      "cell_type": "code",
      "metadata": {
        "colab": {
          "base_uri": "https://localhost:8080/"
        },
        "id": "82UspB03fwBf",
        "outputId": "3550765a-5bf0-4d46-fa07-06ba410bb515"
      },
      "source": [
        "numerical_gradient(function_2, np.array([0.0, 2.0]))"
      ],
      "execution_count": null,
      "outputs": [
        {
          "output_type": "execute_result",
          "data": {
            "text/plain": [
              "array([0., 4.])"
            ]
          },
          "metadata": {
            "tags": []
          },
          "execution_count": 7
        }
      ]
    },
    {
      "cell_type": "code",
      "metadata": {
        "colab": {
          "base_uri": "https://localhost:8080/"
        },
        "id": "aDpQgAWFfwEc",
        "outputId": "59864f69-0f4b-47b0-e8a0-1209458ed202"
      },
      "source": [
        "numerical_gradient(function_2, np.array([3.0, 0.0]))"
      ],
      "execution_count": null,
      "outputs": [
        {
          "output_type": "execute_result",
          "data": {
            "text/plain": [
              "array([6., 0.])"
            ]
          },
          "metadata": {
            "tags": []
          },
          "execution_count": 8
        }
      ]
    },
    {
      "cell_type": "markdown",
      "metadata": {
        "id": "jA61sEfVf1xw"
      },
      "source": [
        "numerical_gradient 코드를 numerical_gradient(function_2, np.array([3.0, 4.0])) 관점에서 생각해보자면,\r\n",
        "\r\n",
        "먼저 x[0]인 3.0에 대해서, 3.0 + h를 x[0]에 저장하고, 이에 대해서 f(3.0+h)를 계산해서 fxh1로 만들어준다.\r\n",
        "\r\n",
        "다음으로 3.0 - h를 x[0]에 저장하고, 이에 대해서 f(3.0 - h)를 fxh2로 만들어준다.\r\n",
        "\r\n",
        "그리고 grad[0] = (f(3.0 + h) - f(3.0 - h)) / 2h 로 계산해준다.\r\n",
        "\r\n",
        "이 코드의 핵심은, 내가 편미분하고 싶은 변수를 제외한 나머지 변수의 값들은 원래 값 그대로를 들고 간다는 점이라고 생각하면 좋을듯하다."
      ]
    },
    {
      "cell_type": "markdown",
      "metadata": {
        "id": "hdzI8So_f3ya"
      },
      "source": [
        "해당 도서의 공식 github에 가보니, 배치 단위로 계산하는 코드도 나와있었다.\r\n",
        "\r\n",
        "(https://github.com/WegraLee/deep-learning-from-scratch/blob/master/ch04/gradient_2d.py)\r\n",
        "\r\n",
        "따라서 배치 단위로 계산하는 코드도 직접 짜서 돌려보았다."
      ]
    },
    {
      "cell_type": "code",
      "metadata": {
        "id": "nTwrxnolfyYr"
      },
      "source": [
        "# 위에서 numerical_gradient로 만들었던 코드랑 동일하다.\r\n",
        "\r\n",
        "def _numerical_gradient_no_batch(f, x):\r\n",
        "    h = 1e-4 # 0.0001\r\n",
        "    grad = np.zeros_like(x) # x와 형상이 같은 배열을 생성\r\n",
        "    \r\n",
        "    for idx in range(x.size):\r\n",
        "        tmp_val = x[idx]\r\n",
        "        \r\n",
        "        # f(x+h) 계산\r\n",
        "        x[idx] = float(tmp_val) + h\r\n",
        "        fxh1 = f(x)\r\n",
        "        \r\n",
        "        # f(x-h) 계산\r\n",
        "        x[idx] = tmp_val - h \r\n",
        "        fxh2 = f(x) \r\n",
        "        \r\n",
        "        grad[idx] = (fxh1 - fxh2) / (2*h)\r\n",
        "        x[idx] = tmp_val # 값 복원\r\n",
        "        \r\n",
        "    return grad\r\n",
        "\r\n",
        "def numerical_gradient(f, X):\r\n",
        "    if X.ndim == 1:\r\n",
        "        return _numerical_gradient_no_batch(f, X)\r\n",
        "    else:\r\n",
        "        grad = np.zeros_like(X)\r\n",
        "        \r\n",
        "        for idx, x in enumerate(X):\r\n",
        "            grad[idx] = _numerical_gradient_no_batch(f, x)\r\n",
        "        \r\n",
        "        return grad\r\n",
        "\r\n",
        "# 배치 형태면 각 배치마다 np.sum을 계산해줌\r\n",
        "def function_2(x):\r\n",
        "    if x.ndim == 1:\r\n",
        "        return np.sum(x**2)\r\n",
        "    else:\r\n",
        "        return np.sum(x**2, axis=1)\r\n"
      ],
      "execution_count": null,
      "outputs": []
    },
    {
      "cell_type": "code",
      "metadata": {
        "colab": {
          "base_uri": "https://localhost:8080/"
        },
        "id": "IoFHPVXDf8Vn",
        "outputId": "39dc069c-4b94-4663-a6f2-8ec08a848f7e"
      },
      "source": [
        "# numerical_gradient를 2차원으로 작동할 때는 이렇게 작동함.\r\n",
        "# 즉, 배치 중에서 한 개씩 꺼내와서 아까처럼 numerical gradient를 계산하는 식으로 작동.\r\n",
        "sample = [[3.0, 4.0], [3.0, 0.0]]\r\n",
        "\r\n",
        "for index, x in enumerate(sample):\r\n",
        "    print(index)\r\n",
        "    print(x)"
      ],
      "execution_count": null,
      "outputs": [
        {
          "output_type": "stream",
          "text": [
            "0\n",
            "[3.0, 4.0]\n",
            "1\n",
            "[3.0, 0.0]\n"
          ],
          "name": "stdout"
        }
      ]
    },
    {
      "cell_type": "code",
      "metadata": {
        "colab": {
          "base_uri": "https://localhost:8080/"
        },
        "id": "OKka2a8Kf9-y",
        "outputId": "09df1edc-15a4-4926-983b-7905fb694d9f"
      },
      "source": [
        "# 3배치로 편미분을 계산시켰을 때 결과\r\n",
        "\r\n",
        "numerical_gradient(function_2, np.array([[3.0, 4.0], [0.0, 2.0], [3.0, 0.0]]))"
      ],
      "execution_count": null,
      "outputs": [
        {
          "output_type": "execute_result",
          "data": {
            "text/plain": [
              "array([[6., 8.],\n",
              "       [0., 4.],\n",
              "       [6., 0.]])"
            ]
          },
          "metadata": {
            "tags": []
          },
          "execution_count": 11
        }
      ]
    },
    {
      "cell_type": "code",
      "metadata": {
        "colab": {
          "base_uri": "https://localhost:8080/",
          "height": 283
        },
        "id": "aVo-ogP5f_U5",
        "outputId": "6cbb2494-bafc-4595-d053-61e92b4a2ce6"
      },
      "source": [
        "import matplotlib.pyplot as plt\r\n",
        "\r\n",
        "x0 = np.arange(-2, 2.5, 0.25)\r\n",
        "x1 = np.arange(-2, 2.5, 0.25)\r\n",
        "# np.meshgrid는 격자점을 만드는 함수. 추후 별개로 공부할 필요 있어보임\r\n",
        "X, Y = np.meshgrid(x0, x1)\r\n",
        "\r\n",
        "X = X.flatten() # (324, )\r\n",
        "Y = Y.flatten() # (324, )\r\n",
        "\r\n",
        "\r\n",
        "grad = numerical_gradient(function_2, np.array([X, Y]) ) # (2, 324)\r\n",
        "\r\n",
        "    \r\n",
        "plt.figure()\r\n",
        "# plt.quiver는 gradient vector를 그리는데 유용하게 사용할 수 있는 화살표 그림을 그려줌\r\n",
        "plt.quiver(X, Y, -grad[0], -grad[1],  angles=\"xy\", color=\"#666666\")\r\n",
        "plt.xlim([-2, 2])\r\n",
        "plt.ylim([-2, 2])\r\n",
        "plt.xlabel('x0')\r\n",
        "plt.ylabel('x1')\r\n",
        "plt.grid()\r\n",
        "plt.draw()\r\n",
        "plt.show()"
      ],
      "execution_count": null,
      "outputs": [
        {
          "output_type": "display_data",
          "data": {
            "image/png": "[encoded data removed]",
            "text/plain": [
              "<Figure size 432x288 with 1 Axes>"
            ]
          },
          "metadata": {
            "tags": [],
            "needs_background": "light"
          }
        }
      ]
    },
    {
      "cell_type": "markdown",
      "metadata": {
        "id": "dgsi_YAJ3clm"
      },
      "source": [
        "## 4.4.1 경사 하강법(p. 129)"
      ]
    },
    {
      "cell_type": "code",
      "metadata": {
        "id": "hZP6FDZYgBBs"
      },
      "source": [
        "def gradient_descent(f, init_x, lr = 0.01, step_num = 100):\r\n",
        "    x = init_x  # x를 x의 초기값으로 지정\r\n",
        "\r\n",
        "    for i in range(step_num):\r\n",
        "        grad = numerical_gradient(f, x)\r\n",
        "        x -= lr * grad # x 값 갱신\r\n",
        "\r\n",
        "    return x"
      ],
      "execution_count": null,
      "outputs": []
    },
    {
      "cell_type": "code",
      "metadata": {
        "colab": {
          "base_uri": "https://localhost:8080/"
        },
        "id": "C0KjbdIT3_Lb",
        "outputId": "5f774eab-beb6-46d1-e0e9-4ba808c9ef65"
      },
      "source": [
        "init_x = np.array([-3.0 , 4.0])\r\n",
        "\r\n",
        "gradient_descent(function_2, init_x = init_x , lr = 0.1, step_num = 100)"
      ],
      "execution_count": null,
      "outputs": [
        {
          "output_type": "execute_result",
          "data": {
            "text/plain": [
              "array([-6.11110793e-10,  8.14814391e-10])"
            ]
          },
          "metadata": {
            "tags": []
          },
          "execution_count": 5
        }
      ]
    },
    {
      "cell_type": "markdown",
      "metadata": {
        "id": "9do7cHBD5dlP"
      },
      "source": [
        "책에 나온 그림을 그리는 코드는 위 코드에서 약간만 바꿔주면 됩니다.\r\n",
        "\r\n",
        "즉 x의 변화를 모두 데이터로 가지고 있어야 하므로, 이를 x_history라는 변수에 저장하는 방법을 취합니다."
      ]
    },
    {
      "cell_type": "code",
      "metadata": {
        "colab": {
          "base_uri": "https://localhost:8080/",
          "height": 295
        },
        "id": "M9iWx_oo5_yU",
        "outputId": "74274795-2fb1-4734-9240-256889bb2748"
      },
      "source": [
        "def gradient_descent(f, init_x, lr=0.01, step_num=100):\r\n",
        "    x = init_x\r\n",
        "    x_history = []\r\n",
        "\r\n",
        "    for i in range(step_num):\r\n",
        "        x_history.append( x.copy() )\r\n",
        "\r\n",
        "        grad = numerical_gradient(f, x)\r\n",
        "        x -= lr * grad\r\n",
        "\r\n",
        "    return x, np.array(x_history)\r\n",
        "\r\n",
        "\r\n",
        "def function_2(x):\r\n",
        "    if x.ndim == 1:\r\n",
        "        return np.sum(x**2)\r\n",
        "    else:\r\n",
        "        return np.sum(x**2, axis=1)\r\n",
        "\r\n",
        "\r\n",
        "init_x = np.array([-3.0, 4.0])    \r\n",
        "\r\n",
        "lr = 0.1\r\n",
        "step_num = 20\r\n",
        "x, x_history = gradient_descent(function_2, init_x, lr=lr, step_num=step_num)\r\n",
        "\r\n",
        "plt.plot( [-5, 5], [0,0], '--b')\r\n",
        "plt.plot( [0,0], [-5, 5], '--b')\r\n",
        "plt.plot(x_history[:,0], x_history[:,1], 'o')\r\n",
        "\r\n",
        "plt.xlim(-3.5, 3.5)\r\n",
        "plt.ylim(-4.5, 4.5)\r\n",
        "plt.title(\"Learning Rate : 0.1\")\r\n",
        "plt.xlabel(\"X0\")\r\n",
        "plt.ylabel(\"X1\")\r\n",
        "plt.show()"
      ],
      "execution_count": null,
      "outputs": [
        {
          "output_type": "display_data",
          "data": {
            "image/png": "[encoded data removed]",
            "text/plain": [
              "<Figure size 432x288 with 1 Axes>"
            ]
          },
          "metadata": {
            "tags": [],
            "needs_background": "light"
          }
        }
      ]
    },
    {
      "cell_type": "code",
      "metadata": {
        "colab": {
          "base_uri": "https://localhost:8080/",
          "height": 313
        },
        "id": "u0lQGZDYWW-l",
        "outputId": "a2544d6c-10fa-4db4-e825-2ce309d04936"
      },
      "source": [
        "# Learning Rate가 매우 큰 경우\r\n",
        "init_x = np.array([-3.0, 4.0])\r\n",
        "step_num = 100\r\n",
        "x, x_history = gradient_descent(function_2, init_x, lr=10.0, step_num=step_num)\r\n",
        "\r\n",
        "plt.plot( [-5, 5], [0,0], '--b')\r\n",
        "plt.plot( [0,0], [-5, 5], '--b')\r\n",
        "plt.plot(x_history[:,0], x_history[:,1], 'o')\r\n",
        "\r\n",
        "plt.xlim(-3.5, 3.5)\r\n",
        "plt.ylim(-4.5, 4.5)\r\n",
        "plt.title(\"Learning Rate : 10\")\r\n",
        "plt.xlabel(\"X0\")\r\n",
        "plt.ylabel(\"X1\")\r\n",
        "plt.show()\r\n",
        "print(\"최종 위치: \", x)"
      ],
      "execution_count": null,
      "outputs": [
        {
          "output_type": "display_data",
          "data": {
            "image/png": "[encoded data removed]",
            "text/plain": [
              "<Figure size 432x288 with 1 Axes>"
            ]
          },
          "metadata": {
            "tags": [],
            "needs_background": "light"
          }
        },
        {
          "output_type": "stream",
          "text": [
            "최종 위치:  [-2.58983747e+13 -1.29524862e+12]\n"
          ],
          "name": "stdout"
        }
      ]
    },
    {
      "cell_type": "code",
      "metadata": {
        "colab": {
          "base_uri": "https://localhost:8080/",
          "height": 313
        },
        "id": "PVskELgeXLvJ",
        "outputId": "bdca2226-9b4e-4af9-a7ac-5b1e9a4399bf"
      },
      "source": [
        "init_x = np.array([-3.0, 4.0])\r\n",
        "step_num = 100\r\n",
        "x, x_history = gradient_descent(function_2, init_x, lr=1e-10, step_num=step_num)\r\n",
        "\r\n",
        "plt.plot( [-5, 5], [0,0], '--b')\r\n",
        "plt.plot( [0,0], [-5, 5], '--b')\r\n",
        "plt.plot(x_history[:,0], x_history[:,1], 'o')\r\n",
        "\r\n",
        "plt.xlim(-3.5, 3.5)\r\n",
        "plt.ylim(-4.5, 4.5)\r\n",
        "plt.title(\"Learning Rate : 1e-10\")\r\n",
        "plt.xlabel(\"X0\")\r\n",
        "plt.ylabel(\"X1\")\r\n",
        "plt.show()\r\n",
        "print(\"최종 위치: \", x)"
      ],
      "execution_count": null,
      "outputs": [
        {
          "output_type": "display_data",
          "data": {
            "image/png": "[encoded data removed]",
            "text/plain": [
              "<Figure size 432x288 with 1 Axes>"
            ]
          },
          "metadata": {
            "tags": [],
            "needs_background": "light"
          }
        },
        {
          "output_type": "stream",
          "text": [
            "최종 위치:  [-2.99999994  3.99999992]\n"
          ],
          "name": "stdout"
        }
      ]
    },
    {
      "cell_type": "markdown",
      "metadata": {
        "id": "xMzM4Blbambi"
      },
      "source": [
        "## 4.4.2 신경망에서의 기울기(p. 133)"
      ]
    },
    {
      "cell_type": "code",
      "metadata": {
        "id": "FNhMm8GFaouu"
      },
      "source": [
        "import numpy as np\r\n",
        "\r\n",
        "def softmax(x):\r\n",
        "    if x.ndim == 2:\r\n",
        "        x = x.T\r\n",
        "        x = x - np.max(x, axis=0)\r\n",
        "        y = np.exp(x) / np.sum(np.exp(x), axis=0)\r\n",
        "        return y.T \r\n",
        "\r\n",
        "    x = x - np.max(x) # 오버플로 대책\r\n",
        "    return np.exp(x) / np.sum(np.exp(x))\r\n",
        "\r\n",
        "def cross_entropy_error(y, t):\r\n",
        "    if y.ndim == 1:\r\n",
        "        t = t.reshape(1, t.size)\r\n",
        "        y = y.reshape(1, y.size)\r\n",
        "\r\n",
        "    batch_size = y.shape[0]\r\n",
        "    return -np.sum(t * np.log(y + 1e-7)) / batch_size\r\n",
        "\r\n",
        "class simpleNet:\r\n",
        "    def __init__(self):\r\n",
        "        self.W = np.array([[0.47355232, 0.9977393, 0.84668094], [0.85557411, 0.03563661, 0.69422093]])\r\n",
        "\r\n",
        "    def predict(self, x):\r\n",
        "        return np.dot(x, self.W)\r\n",
        "\r\n",
        "    def loss(self, x, t):\r\n",
        "        z = self.predict(x)\r\n",
        "        y = softmax(z)\r\n",
        "        loss = cross_entropy_error(y, t)\r\n",
        "        return loss"
      ],
      "execution_count": null,
      "outputs": []
    },
    {
      "cell_type": "code",
      "metadata": {
        "colab": {
          "base_uri": "https://localhost:8080/"
        },
        "id": "R5yWPROm8aD0",
        "outputId": "e8f8a4d8-4315-47af-cf27-d29a2c166418"
      },
      "source": [
        "net = simpleNet()\r\n",
        "print(\"W: \", net.W)\r\n",
        "\r\n",
        "x = np.array([0.6, 0.9])\r\n",
        "p = net.predict(x)\r\n",
        "print(\"예측값: \", p)\r\n",
        "\r\n",
        "t = np.array([0, 0, 1])\r\n",
        "net.loss(x, t)"
      ],
      "execution_count": null,
      "outputs": [
        {
          "output_type": "stream",
          "text": [
            "W:  [[0.47355232 0.9977393  0.84668094]\n",
            " [0.85557411 0.03563661 0.69422093]]\n",
            "예측값:  [1.05414809 0.63071653 1.1328074 ]\n"
          ],
          "name": "stdout"
        },
        {
          "output_type": "execute_result",
          "data": {
            "text/plain": [
              "0.9280682857864075"
            ]
          },
          "metadata": {
            "tags": []
          },
          "execution_count": 29
        }
      ]
    },
    {
      "cell_type": "code",
      "metadata": {
        "colab": {
          "base_uri": "https://localhost:8080/"
        },
        "id": "ZWIPDj6I8cK_",
        "outputId": "d37c76fa-d2a0-49ce-8e9a-dfa4e294d481"
      },
      "source": [
        "def f(W):\r\n",
        "    return net.loss(x, t)\r\n",
        "\r\n",
        "dW = numerical_gradient(f, net.W)\r\n",
        "print(dW)"
      ],
      "execution_count": null,
      "outputs": [
        {
          "output_type": "stream",
          "text": [
            "[[ 0.21925592  0.14355928 -0.3628152 ]\n",
            " [ 0.32888388  0.21533892 -0.5442228 ]]\n"
          ],
          "name": "stdout"
        }
      ]
    }
  ]
}