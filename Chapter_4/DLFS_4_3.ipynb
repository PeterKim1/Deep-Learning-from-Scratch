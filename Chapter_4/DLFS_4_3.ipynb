{
  "nbformat": 4,
  "nbformat_minor": 0,
  "metadata": {
    "colab": {
      "name": "DLFS_4.3.ipynb",
      "provenance": [],
      "collapsed_sections": []
    },
    "kernelspec": {
      "name": "python3",
      "display_name": "Python 3"
    }
  },
  "cells": [
    {
      "cell_type": "markdown",
      "metadata": {
        "id": "FxoUyK8FgJTe"
      },
      "source": [
        "# 4.3 수치 미분(p. 121)"
      ]
    },
    {
      "cell_type": "code",
      "metadata": {
        "id": "xyNIDF36n_Bv"
      },
      "source": [
        "def numerical_diff(f, x):\r\n",
        "    h = 1e-4\r\n",
        "    return (f(x+h) - f(x-h)) / (2*h)"
      ],
      "execution_count": null,
      "outputs": []
    },
    {
      "cell_type": "markdown",
      "metadata": {
        "id": "dMIMJtrL3bOy"
      },
      "source": [
        "y = 0.01x^2 + 0.1x인 경우"
      ]
    },
    {
      "cell_type": "code",
      "metadata": {
        "id": "tvtVbw9e3eF_"
      },
      "source": [
        "def function_1(x):\r\n",
        "    return 0.01*x**2 + 0.1*x"
      ],
      "execution_count": null,
      "outputs": []
    },
    {
      "cell_type": "code",
      "metadata": {
        "colab": {
          "base_uri": "https://localhost:8080/",
          "height": 279
        },
        "id": "ksD1nIde3js1",
        "outputId": "97ba15a2-89a4-4731-8568-833e594a0d48"
      },
      "source": [
        "import numpy as np\r\n",
        "import matplotlib.pyplot as plt\r\n",
        "\r\n",
        "x = np.arange(0.0, 20.0, 0.1)\r\n",
        "y = function_1(x)\r\n",
        "plt.xlabel(\"x\")\r\n",
        "plt.ylabel(\"f(x)\")\r\n",
        "plt.plot(x, y)\r\n",
        "plt.show()"
      ],
      "execution_count": null,
      "outputs": [
        {
          "output_type": "display_data",
          "data": {
            "image/png": "[encoded data removed]",
            "text/plain": [
              "<Figure size 432x288 with 1 Axes>"
            ]
          },
          "metadata": {
            "tags": [],
            "needs_background": "light"
          }
        }
      ]
    },
    {
      "cell_type": "code",
      "metadata": {
        "colab": {
          "base_uri": "https://localhost:8080/"
        },
        "id": "Z9YcoSp-3xPv",
        "outputId": "7099f24b-68c1-4374-8ad2-e98707af5977"
      },
      "source": [
        "# x = 5일 때의 수치적 미분값, 해석적 미분 값은 0.2이므로 매우 작은 오차를 가진다.\r\n",
        "numerical_diff(function_1, 5)"
      ],
      "execution_count": null,
      "outputs": [
        {
          "output_type": "execute_result",
          "data": {
            "text/plain": [
              "0.1999999999990898"
            ]
          },
          "metadata": {
            "tags": []
          },
          "execution_count": 4
        }
      ]
    },
    {
      "cell_type": "code",
      "metadata": {
        "colab": {
          "base_uri": "https://localhost:8080/",
          "height": 280
        },
        "id": "PVP4lz8r3-q8",
        "outputId": "e2739306-375c-4a42-c193-89f4bd667b72"
      },
      "source": [
        "# p. 125 그림 4-7(좌) 그려보기\r\n",
        "# 공식 github에도 책에 나온 것 처럼 똑같이 그림을 그리는 코드는 없었기 때문에, matplotlib을 연습하는 겸\r\n",
        "# 요리조리 만들어보았다.\r\n",
        "\r\n",
        "import numpy as np\r\n",
        "import matplotlib.pyplot as plt\r\n",
        "\r\n",
        "x = np.arange(0.0, 20.0, 0.1) # 0 부터 20까지 0.1 간격의 배열 x를 만들어준다.\r\n",
        "y = function_1(x) \r\n",
        "\r\n",
        "# dot_line_x와 dot_line_y는 세로로 그어진 점선 만들기\r\n",
        "dot_line_y = np.arange(-1.0, function_1(5), 0.1) # 점선을 그리기 위한 y : -1부터 f(5) 값까지 0.1 간격으로 배열을 만들어줌\r\n",
        "dot_line_x = np.tile(5, 18) # np.tile은 동일한 값을 가지는 연속된 배열을 만들때 쓴다. 즉 이는 5라는 원소가 18개 있는 np.array가 된다. 18\r\n",
        "\r\n",
        "# dot_line_x_2와 dot_line_y_2는 가로로 그어진 점선 만들기\r\n",
        "dot_line_x_2 = np.arange(0, 5, 0.1) # 0부터 5까지 0.2 간격으로 배열 만들기 - 가로로 그어진 점선을 만들어야 하니까\r\n",
        "dot_line_y_2 = np.tile(function_1(5), 50) # f(5)값을 25개만큼 만들어서 점선이 동일한 y값을 갖도록 만든다.\r\n",
        "\r\n",
        "\r\n",
        "a_1 = numerical_diff(function_1, 5) # 수치 미분으로 구한 x = 5에서의 기울기\r\n",
        "b_1 = function_1(5) - a_1 * 5 # f(5) - 기울기 * 5 = y절편을 얻게 됨\r\n",
        "y_1 = a_1 * x + b_1 # 기울기랑 y절편으로 그래프 그리기\r\n",
        "plt.xlabel(\"x\")\r\n",
        "plt.ylabel(\"f(x)\", rotation = 0)\r\n",
        "plt.plot(x, y, color = \"black\", label = \"f(x)\")\r\n",
        "plt.plot(x, y_1, color = \"blue\", label = \"x = 5 tangent line\")\r\n",
        "plt.plot(5, function_1(5), marker = 'o', markeredgecolor = 'red', color = 'white') # (5, f(5)) 지점에 만들어진 빨간색 동그라미\r\n",
        "plt.plot(dot_line_x, dot_line_y, linestyle = '--', color = 'black', linewidth = 1) # 세로로 그어진 점선\r\n",
        "plt.plot(dot_line_x_2, dot_line_y_2, linestyle = '--', color = 'black', linewidth = 1) # 가로로 그어진 점선\r\n",
        "\r\n",
        "plt.xticks(np.arange(0, 21, 5)) # 축을 5 간격으로 만들어주기\r\n",
        "plt.tick_params(axis = 'x', direction = 'in') # 눈금 스타일 설정, x축에 대해서 안쪽으로 눈금 튀어나오게 만들기\r\n",
        "plt.tick_params(axis = 'y', direction = 'in') # 눈금 스타일 설정, y축에 대해서 안쪽으로 눈금 튀어나오게 만들기\r\n",
        "plt.xlim(0.0, 20.0)\r\n",
        "plt.ylim(-1.0, 6.0)\r\n",
        "plt.legend()\r\n",
        "plt.show()"
      ],
      "execution_count": null,
      "outputs": [
        {
          "output_type": "display_data",
          "data": {
            "image/png": "[encoded data removed]",
            "text/plain": [
              "<Figure size 432x288 with 1 Axes>"
            ]
          },
          "metadata": {
            "tags": [],
            "needs_background": "light"
          }
        }
      ]
    },
    {
      "cell_type": "code",
      "metadata": {
        "colab": {
          "base_uri": "https://localhost:8080/",
          "height": 280
        },
        "id": "I_t3OVEW84vq",
        "outputId": "a2f055ae-af3a-4597-8cc3-cb96ea320cfe"
      },
      "source": [
        "# p. 125 그림 4-7(우) 그려보기\r\n",
        "\r\n",
        "import numpy as np\r\n",
        "import matplotlib.pyplot as plt\r\n",
        "\r\n",
        "x = np.arange(0.0, 20.0, 0.1) # 0 부터 20까지 0.1 간격의 배열 x를 만들어준다.\r\n",
        "y = function_1(x) \r\n",
        "\r\n",
        "# dot_line_x와 dot_line_y는 세로로 그어진 점선 만들기\r\n",
        "dot_line_y = np.arange(-1.0, function_1(10), 0.1) # 점선을 그리기 위한 y : -1부터 f(5) 값까지 0.1 간격으로 배열을 만들어줌\r\n",
        "dot_line_x = np.tile(10, 30) # np.tile은 동일한 값을 가지는 연속된 배열을 만들때 쓴다. 즉 이는 5라는 원소가 18개 있는 np.array가 된다. 18\r\n",
        "\r\n",
        "# dot_line_x_2와 dot_line_y_2는 가로로 그어진 점선 만들기\r\n",
        "dot_line_x_2 = np.arange(0, 10, 0.1) # 0부터 5까지 0.2 간격으로 배열 만들기 - 가로로 그어진 점선을 만들어야 하니까\r\n",
        "dot_line_y_2 = np.tile(function_1(10), 100) # f(5)값을 25개만큼 만들어서 점선이 동일한 y값을 갖도록 만든다.\r\n",
        "\r\n",
        "\r\n",
        "a_1 = numerical_diff(function_1, 10) # 수치 미분으로 구한 x = 10 에서의 기울기\r\n",
        "b_1 = function_1(10) - a_1 * 10 # f(5) - 기울기 * 5 = y절편을 얻게 됨\r\n",
        "y_1 = a_1 * x + b_1 # 기울기랑 y절편으로 그래프 그리기\r\n",
        "plt.xlabel(\"x\")\r\n",
        "plt.ylabel(\"f(x)\")\r\n",
        "plt.plot(x, y, color = \"black\", label = \"f(x)\")\r\n",
        "plt.plot(x, y_1, color = \"blue\", label = \"x = 10 tangent line\")\r\n",
        "plt.plot(10, function_1(10), marker = 'o', markeredgecolor = 'red', color = 'white') # (5, f(5)) 지점에 만들어진 빨간색 동그라미\r\n",
        "plt.plot(dot_line_x, dot_line_y, linestyle = '--', color = 'black', linewidth = 1) # 세로로 그어진 점선\r\n",
        "plt.plot(dot_line_x_2, dot_line_y_2, linestyle = '--', color = 'black', linewidth = 1) # 가로로 그어진 점선\r\n",
        "\r\n",
        "plt.xticks(np.arange(0, 21, 5)) # 축을 5 간격으로 만들어주기\r\n",
        "plt.tick_params(axis = 'x', direction = 'in') # 눈금 스타일 설정, x축에 대해서 안쪽으로 눈금 튀어나오게 만들기\r\n",
        "plt.tick_params(axis = 'y', direction = 'in') # 눈금 스타일 설정, y축에 대해서 안쪽으로 눈금 튀어나오게 만들기\r\n",
        "plt.xlim(0.0, 20.0)\r\n",
        "plt.ylim(-1.0, 6.0)\r\n",
        "plt.legend()\r\n",
        "plt.show()"
      ],
      "execution_count": null,
      "outputs": [
        {
          "output_type": "display_data",
          "data": {
            "image/png": "[encoded data removed]",
            "text/plain": [
              "<Figure size 432x288 with 1 Axes>"
            ]
          },
          "metadata": {
            "tags": [],
            "needs_background": "light"
          }
        }
      ]
    },
    {
      "cell_type": "code",
      "metadata": {
        "id": "foPXVS3yLY0m"
      },
      "source": [
        "# f(x_0, x_1) = x_0^2 + x_1^2\r\n",
        "\r\n",
        "def function_2(x):\r\n",
        "    return x[0]**2 + x[1]**2"
      ],
      "execution_count": null,
      "outputs": []
    },
    {
      "cell_type": "code",
      "metadata": {
        "colab": {
          "base_uri": "https://localhost:8080/"
        },
        "id": "qcYpfjD6Mnhs",
        "outputId": "d3bcd79c-c355-42be-91f7-14dd1361a02a"
      },
      "source": [
        "# x_0 = 3, x_1 = 4에서의 x_0에 대한 편미분?\r\n",
        "\r\n",
        "def function_tmp1(x0):\r\n",
        "    return x0*x0 + 4.0**2.0\r\n",
        "\r\n",
        "numerical_diff(function_tmp1, 3.0) # 편미분 값"
      ],
      "execution_count": null,
      "outputs": [
        {
          "output_type": "execute_result",
          "data": {
            "text/plain": [
              "6.00000000000378"
            ]
          },
          "metadata": {
            "tags": []
          },
          "execution_count": 43
        }
      ]
    },
    {
      "cell_type": "code",
      "metadata": {
        "colab": {
          "base_uri": "https://localhost:8080/"
        },
        "id": "MCmS4NP0NUrq",
        "outputId": "137c0ebb-57f5-445b-f7cc-acf2cc6a55d5"
      },
      "source": [
        "def function_tmp2(x1):\r\n",
        "    return 3.0**2.0 + x1*x1\r\n",
        "\r\n",
        "numerical_diff(function_tmp2, 4.0)"
      ],
      "execution_count": null,
      "outputs": [
        {
          "output_type": "execute_result",
          "data": {
            "text/plain": [
              "7.999999999999119"
            ]
          },
          "metadata": {
            "tags": []
          },
          "execution_count": 44
        }
      ]
    }
  ]
}